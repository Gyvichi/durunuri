{
  "nbformat": 4,
  "nbformat_minor": 0,
  "metadata": {
    "colab": {
      "provenance": [],
      "authorship_tag": "ABX9TyOkLBaQ5eJ36kFbtiV4a3U+",
      "include_colab_link": true
    },
    "kernelspec": {
      "name": "python3",
      "display_name": "Python 3"
    },
    "language_info": {
      "name": "python"
    }
  },
  "cells": [
    {
      "cell_type": "markdown",
      "metadata": {
        "id": "view-in-github",
        "colab_type": "text"
      },
      "source": [
        "<a href=\"https://colab.research.google.com/github/Gyvichi/durunuri/blob/main/FFT.ipynb\" target=\"_parent\"><img src=\"https://colab.research.google.com/assets/colab-badge.svg\" alt=\"Open In Colab\"/></a>"
      ]
    },
    {
      "cell_type": "markdown",
      "source": [
        "1. scipy.fftpack\n",
        "```py\n",
        "from scipy.fftpack import fft, ifft\n",
        "```\n",
        "- scipy.fftpack.fft()\n",
        "- scipy.fftpack.ifft\n",
        "- scipy.fftpack.fftfreq()\n",
        "  - 샘플링 주파수 생성\n",
        "\n",
        "2. cmath\n",
        "- fft()"
      ],
      "metadata": {
        "id": "eQGzlsjjt1Op"
      }
    },
    {
      "cell_type": "code",
      "source": [],
      "metadata": {
        "id": "lg5idjtAxi3Y"
      },
      "execution_count": null,
      "outputs": []
    },
    {
      "cell_type": "code",
      "source": [
        "import cmath\n",
        "\n",
        "def fft(x):\n",
        "    N = len(x)\n",
        "    if N <= 1:\n",
        "        return x\n",
        "\n",
        "    even = fft(x[0::2])\n",
        "    odd = fft(x[1::2])\n",
        "\n",
        "    T = [cmath.exp(-2j * cmath.pi * k / N) * odd[k] for k in range(N // 2)]\n",
        "\n",
        "    return [even[k] + T[k] for k in range(N // 2)] + [even[k] - T[k] for k in range(N // 2)]\n",
        "\n",
        "def main():\n",
        "    signal = [0, 1, 2, 3]  # Replace with your input signal\n",
        "    result = fft(signal)\n",
        "\n",
        "    print(\"FFT result:\")\n",
        "    for val in result:\n",
        "        print(val)"
      ],
      "metadata": {
        "colab": {
          "base_uri": "https://localhost:8080/"
        },
        "id": "Ja140Efttvsp",
        "outputId": "d8dd5689-f7e6-4a97-90a5-de048553c33e"
      },
      "execution_count": null,
      "outputs": [
        {
          "output_type": "stream",
          "name": "stdout",
          "text": [
            "FFT result:\n",
            "(6+0j)\n",
            "(-2+2j)\n",
            "(-2+0j)\n",
            "(-1.9999999999999998-2j)\n"
          ]
        }
      ]
    },
    {
      "cell_type": "code",
      "source": [
        "import numpy as np\n",
        "import matplotlib.pyplot as plt\n",
        "from matplotlib import animation, rc\n",
        "from IPython.display import HTML\n",
        "plt.rcParams['figure.figsize'] = [8, 8]\n",
        "plt.rcParams.update({'font.size': 18})\n",
        "plt.rcParams['animation.html'] = 'jshtml'\n",
        "\n",
        "\n",
        "dx = 0.01\n",
        "L = 10\n",
        "x = np.arange(0,L+dx,dx)\n",
        "n = len(x)\n",
        "nquart = int(np.floor(n/4))\n",
        "\n",
        "f = np.zeros_like(x)\n",
        "f[nquart:3*nquart] = 1\n",
        "\n",
        "A0 = np.sum(f * np.ones_like(x)) * dx * 2 / L\n",
        "fFS = A0/2 * np.ones_like(f)\n",
        "\n",
        "fig,ax = plt.subplots()\n",
        "plt.plot(x,f,color='k',linewidth=2)\n",
        "fFS_plot, = plt.plot([],[],color='r',linewidth=2)\n",
        "\n",
        "all_fFS = np.zeros((len(fFS),101))\n",
        "all_fFS[:,0] = fFS\n",
        "\n",
        "for k in range(1,101):\n",
        "    Ak = np.sum(f * np.cos(2*np.pi*k*x/L)) * dx * 2 / L\n",
        "    Bk = np.sum(f * np.sin(2*np.pi*k*x/L)) * dx * 2 / L\n",
        "    fFS = fFS + Ak*np.cos(2*k*np.pi*x/L) + Bk*np.sin(2*k*np.pi*x/L)\n",
        "    all_fFS[:,k] = fFS\n",
        "\n",
        "def init():\n",
        "    ax.set_xlim(x[0],x[-1])\n",
        "    ax.set_ylim(-0.2, 1.2)\n",
        "    return fFS\n",
        "\n",
        "def animate(iter):\n",
        "    fFS_plot.set_data(x,all_fFS[:,iter])\n",
        "    return fFS_plot"
      ],
      "metadata": {
        "colab": {
          "base_uri": "https://localhost:8080/",
          "height": 686
        },
        "id": "9jDSplBQ9P2V",
        "outputId": "676a2512-7eb4-432a-d229-616ce01684e1"
      },
      "execution_count": null,
      "outputs": [
        {
          "output_type": "display_data",
          "data": {
            "text/plain": [
              "<Figure size 800x800 with 1 Axes>"
            ],
            "image/png": "[encoded data removed]"
          },
          "metadata": {}
        }
      ]
    }
  ]
}